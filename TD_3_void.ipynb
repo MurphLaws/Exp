{
  "nbformat": 4,
  "nbformat_minor": 0,
  "metadata": {
    "kernelspec": {
      "display_name": "Python 3",
      "language": "python",
      "name": "python3"
    },
    "language_info": {
      "codemirror_mode": {
        "name": "ipython",
        "version": 3
      },
      "file_extension": ".py",
      "mimetype": "text/x-python",
      "name": "python",
      "nbconvert_exporter": "python",
      "pygments_lexer": "ipython3",
      "version": "3.5.4"
    },
    "colab": {
      "provenance": [],
      "include_colab_link": true
    }
  },
  "cells": [
    {
      "cell_type": "markdown",
      "metadata": {
        "id": "view-in-github",
        "colab_type": "text"
      },
      "source": [
        "<a href=\"https://colab.research.google.com/github/MurphLaws/Exp/blob/main/TD_3_void.ipynb\" target=\"_parent\"><img src=\"https://colab.research.google.com/assets/colab-badge.svg\" alt=\"Open In Colab\"/></a>"
      ]
    },
    {
      "cell_type": "code",
      "metadata": {
        "id": "8UFfeL5CXQX6"
      },
      "source": [
        "import numpy as np\n",
        "from PIL import Image, ImageOps\n",
        "import matplotlib.pyplot as plt\n",
        "from scipy import ndimage"
      ],
      "execution_count": null,
      "outputs": []
    },
    {
      "cell_type": "code",
      "metadata": {
        "id": "-a26X0i-XQYD"
      },
      "source": [
        "%matplotlib inline"
      ],
      "execution_count": null,
      "outputs": []
    },
    {
      "cell_type": "code",
      "metadata": {
        "id": "l7INkMGxXQYJ"
      },
      "source": [
        "# utils\n",
        "\n",
        "def load_image(filename, as_gray=False, as_float=False):\n",
        "    if as_gray:\n",
        "        a = np.asarray(Image.open(filename).convert('L'))\n",
        "    else:\n",
        "        a = np.asarray(Image.open(filename))\n",
        "    if as_float:\n",
        "        return a.astype(np.float) / 255\n",
        "    else:\n",
        "        return a\n",
        "\n",
        "def display_image(im, as_gray=False, title=None):\n",
        "    plt.figure(figsize=(9,4))\n",
        "    if as_gray:\n",
        "        plt.imshow(im, cmap='gray')\n",
        "    else:\n",
        "        plt.imshow(im)\n",
        "    if title is not None:\n",
        "        plt.title(title)\n",
        "\n",
        "def display_vec(v, title=None):\n",
        "    plt.figure(figsize=(9,4))\n",
        "    plt.plot(v)\n",
        "    if title is not None:\n",
        "        plt.title(title)"
      ],
      "execution_count": null,
      "outputs": []
    },
    {
      "cell_type": "code",
      "metadata": {
        "id": "qSekdQ1gXQYS"
      },
      "source": [
        "# syntax examples\n",
        "\n",
        "range(10) # 0..9\n",
        "range(1,10) # 1..9\n",
        "\n",
        "# loop in image\n",
        "def loop_sample(im):\n",
        "    for i in range(im.shape[0]):\n",
        "        for j in range(im.shape[1]):\n",
        "            v = im[i,j]\n",
        "\n",
        "# create vector, matrix\n",
        "np.zeros((3,), dtype=np.int)\n",
        "np.zeros((3,4), dtype=np.int)\n",
        "\n",
        "# get element count\n",
        "# im.size\n",
        "\n",
        "# define function\n",
        "def f(arg):\n",
        "    return 0"
      ],
      "execution_count": null,
      "outputs": []
    },
    {
      "cell_type": "code",
      "metadata": {
        "id": "K7vaooXnXQYX"
      },
      "source": [
        "import cv2"
      ],
      "execution_count": null,
      "outputs": []
    },
    {
      "cell_type": "code",
      "metadata": {
        "id": "-z14mZEzYxsO"
      },
      "source": [
        "# execute this for all files in https://drive.google.com/open?id=14pfOYIZm31Zro5Suq8BATdHdPPivAfXN\n",
        "from google.colab import files\n",
        "\n",
        "uploaded = files.upload()\n",
        "\n",
        "for fn in uploaded.keys():\n",
        "  print('User uploaded file \"{name}\" with length {length} bytes'.format(\n",
        "      name=fn, length=len(uploaded[fn])))"
      ],
      "execution_count": null,
      "outputs": []
    },
    {
      "cell_type": "markdown",
      "metadata": {
        "id": "xeUBDXJpXQYd"
      },
      "source": [
        "# Plane rectification"
      ]
    },
    {
      "cell_type": "code",
      "metadata": {
        "id": "ncbewSozXQYe"
      },
      "source": [
        "im = load_image('mur_louvre.jpg')\n",
        "subsampling = 4\n",
        "display_image(im[::subsampling,::subsampling])"
      ],
      "execution_count": null,
      "outputs": []
    },
    {
      "cell_type": "code",
      "metadata": {
        "id": "o6YiglPTXQYh"
      },
      "source": [
        "# Exemple : ratio de hauteur entre porte de gauche et \"fenetre\" du haut ?"
      ],
      "execution_count": null,
      "outputs": []
    },
    {
      "cell_type": "code",
      "metadata": {
        "id": "LPQkcTE8XQYl"
      },
      "source": [
        "im_pts_sub = [(46,172), (233,177), (64,22), (226,26)]\n",
        "ref_pts = [(0,0), (500,0), (0,300), (500,300)]"
      ],
      "execution_count": null,
      "outputs": []
    },
    {
      "cell_type": "code",
      "metadata": {
        "id": "ZbgJW8tLXQYp"
      },
      "source": [
        "im_pts = im_pts_sub.copy()\n",
        "for i in range(len(im_pts)):\n",
        "    im_pts[i] = (subsampling*im_pts_sub[i][0], subsampling*im_pts_sub[i][1])"
      ],
      "execution_count": null,
      "outputs": []
    },
    {
      "cell_type": "code",
      "metadata": {
        "id": "FjlZj8BSXQYt"
      },
      "source": [
        "def calc_homography_DLT(ref_pts, im_pts):\n",
        "    ## homography from ref_pts to im_pts\n",
        "    M = np.zeros((9,9), dtype=np.float)\n",
        "    for i in range(4):\n",
        "        M[i*2+0, 0] = 0 ##\n",
        "        M[i*2+0, 1] = 0 ##\n",
        "        M[i*2+0, 2] = 0 ##\n",
        "        M[i*2+0, 6] = 0 ##\n",
        "        M[i*2+0, 7] = 0 ##\n",
        "        M[i*2+0, 8] = 0 ##\n",
        "\n",
        "        M[i*2+1, 3] = 0 ##\n",
        "        M[i*2+1, 4] = 0 ##\n",
        "        M[i*2+1, 5] = 0 ##\n",
        "        M[i*2+1, 6] = 0 ##\n",
        "        M[i*2+1, 7] = 0 ##\n",
        "        M[i*2+1, 8] = 0 ##\n",
        "    M[-1,-1] = 0 ##\n",
        "    b = np.zeros((9,), dtype=np.float)\n",
        "    b[-1] = 0 ##\n",
        "\n",
        "    H = np.linalg.solve(M,b).reshape([3,3])\n",
        "    return H"
      ],
      "execution_count": null,
      "outputs": []
    },
    {
      "cell_type": "code",
      "metadata": {
        "id": "8IAyXEZlXQYx"
      },
      "source": [
        "H = calc_homography_DLT(ref_pts, im_pts)"
      ],
      "execution_count": null,
      "outputs": []
    },
    {
      "cell_type": "code",
      "metadata": {
        "id": "ax7f3r5xXQY2"
      },
      "source": [
        "def pt_homography(H, p):\n",
        "    pp = np.matmul(H, np.asarray([p[0], p[1], 1.0]))\n",
        "    return 0 ##"
      ],
      "execution_count": null,
      "outputs": []
    },
    {
      "cell_type": "code",
      "metadata": {
        "id": "64CsTNpjXQY6"
      },
      "source": [
        "# check homography\n",
        "print(\"homography errors (pix)\")\n",
        "for i in range(4):\n",
        "    print(np.linalg.norm(pt_homography(H, ref_pts[i]) - im_pts[i]))"
      ],
      "execution_count": null,
      "outputs": []
    },
    {
      "cell_type": "code",
      "metadata": {
        "id": "opWe3d5eXQY9"
      },
      "source": [
        "def apply_homography(im_in, H, im_out):\n",
        "    # apply homography\n",
        "    for y in range(im_out.shape[0]):\n",
        "        for x in range(im_out.shape[1]):\n",
        "            p = np.matmul(H, np.asarray([x,y,1]))\n",
        "            xi = np.clip(int(round(p[0]/p[2])),0,im_in.shape[1]-1)\n",
        "            yi = np.clip(int(round(p[1]/p[2])),0,im_in.shape[0]-1)\n",
        "            im_out[y,x] = im_in[yi,xi]"
      ],
      "execution_count": null,
      "outputs": []
    },
    {
      "cell_type": "code",
      "metadata": {
        "id": "wqrew6auXQZA"
      },
      "source": [
        "# apply homography\n",
        "display_image(im[::subsampling,::subsampling])\n",
        "\n",
        "im_h = np.zeros((300, 500, 3), dtype=im.dtype)\n",
        "apply_homography(im, H, im_h)\n",
        "# draw a grid on im_h\n",
        "im_h[:,::50] = 255\n",
        "im_h[::50,:] = 255\n",
        "display_image(im_h[::-1])"
      ],
      "execution_count": null,
      "outputs": []
    },
    {
      "cell_type": "markdown",
      "metadata": {
        "id": "X07rQBNRXQZD"
      },
      "source": [
        "# Stitching"
      ]
    },
    {
      "cell_type": "code",
      "metadata": {
        "id": "kLzk0CLpXQZF"
      },
      "source": [
        "# images from https://www.pyimagesearch.com/2018/12/17/image-stitching-with-opencv-and-python/\n",
        "\n",
        "images = []\n",
        "for f in ['IMG_1786-2.jpg', 'IMG_1787-2.jpg', 'IMG_1788-2.jpg']:\n",
        "    images.append(load_image(f))\n",
        "\n",
        "plt.figure(figsize=(10,4))\n",
        "for i, im in enumerate(images):\n",
        "    plt.subplot(1,len(images),i+1)\n",
        "    plt.axis('off')\n",
        "    plt.imshow(im);\n",
        "plt.tight_layout()"
      ],
      "execution_count": null,
      "outputs": []
    },
    {
      "cell_type": "code",
      "metadata": {
        "id": "MCTViReyXQZH"
      },
      "source": [
        "pts = []\n",
        "pts_0 = [[11,332], [98,77], [299,372], [199,553]]\n",
        "pts_1 = [[461,348], [533,114], [741,401], [655,582]]\n",
        "pts.append(pts_0)\n",
        "pts.append(pts_1)"
      ],
      "execution_count": null,
      "outputs": []
    },
    {
      "cell_type": "code",
      "metadata": {
        "id": "o6WzblDCXQZL"
      },
      "source": [
        "H10 = calc_homography_DLT(pts_1, pts_0)\n",
        "# define bigger im1\n",
        "im1ext = np.zeros((images[1].shape[0], images[1].shape[1]*2, images[1].shape[2]), dtype=images[1].dtype)\n",
        "#apply_homography(images[0], H10, im1ext)\n",
        "im1ext = cv2.warpPerspective(images[0], np.linalg.inv(H10), im1ext.shape[1::-1])"
      ],
      "execution_count": null,
      "outputs": []
    },
    {
      "cell_type": "code",
      "metadata": {
        "id": "5gS30cJHXQZO"
      },
      "source": [
        "display_image(im1ext)"
      ],
      "execution_count": null,
      "outputs": []
    },
    {
      "cell_type": "code",
      "metadata": {
        "id": "4x15YHYHXQZR"
      },
      "source": [
        "mask = im1ext[:,:images[1].shape[1]] == 0\n",
        "im1ext[:,:images[1].shape[1]][mask] = images[1][mask]\n",
        "display_image(im1ext)"
      ],
      "execution_count": null,
      "outputs": []
    },
    {
      "cell_type": "markdown",
      "metadata": {
        "id": "tSm3ftGiXQZU"
      },
      "source": [
        "# Automated homography"
      ]
    },
    {
      "cell_type": "markdown",
      "metadata": {
        "id": "aENI2BCsXQZU"
      },
      "source": [
        "## RANSAC on line"
      ]
    },
    {
      "cell_type": "code",
      "metadata": {
        "id": "uD81uC2HXQZW"
      },
      "source": [
        "sz = 100\n",
        "n = 1000\n",
        "n_inliers = n * 5 // 100\n",
        "pts = np.random.randint(0, sz, (n,2))\n",
        "# overwrite inliers\n",
        "pts[:n_inliers,0] = np.random.randint(0, sz, (n_inliers,))\n",
        "pts[:n_inliers,1] = np.round(pts[:n_inliers,0] * 0.1234 + 56.78)"
      ],
      "execution_count": null,
      "outputs": []
    },
    {
      "cell_type": "code",
      "metadata": {
        "id": "NgrJIMwaXQZa"
      },
      "source": [
        "# display points\n",
        "im = np.zeros((sz,sz,3), dtype=np.uint8)\n",
        "im[pts[:,1],pts[:,0]] = 255\n",
        "display_image(im)"
      ],
      "execution_count": null,
      "outputs": []
    },
    {
      "cell_type": "code",
      "metadata": {
        "id": "91g_zqpbXQZc"
      },
      "source": [
        "def pts2line(p1, p2):\n",
        "    if np.linalg.norm(p1 - p2) < 1.0:\n",
        "        return ((0.0,0.0), (1.0,0.0))\n",
        "    u = p2 - p1\n",
        "    u = u / np.linalg.norm(u)\n",
        "    return (p1, u)\n",
        "\n",
        "def linedist(line, p):\n",
        "    # projection on u ortho\n",
        "    return np.abs(np.dot(p - line[0], np.asarray([line[1][1], -line[1][0]])))\n",
        "\n",
        "def RANSAC_line(pts):\n",
        "    N = pts.shape[0]\n",
        "    best_line = None\n",
        "    best_n = 0\n",
        "    best_inliers = None\n",
        "    for iter in range(1000):\n",
        "        ids = np.random.choice(N, 2, replace=False)\n",
        "        line = 0 ##\n",
        "        inliers = []\n",
        "        inlier_threshold = 1.0 # Distance threshold to identify inliers with line check\n",
        "        for i in range(N):\n",
        "            dist = 0 ##\n",
        "            if dist < inlier_threshold:\n",
        "                inliers.append(pts[i])\n",
        "        # print((ids, len(inliers)))\n",
        "        if len(inliers) > best_n:\n",
        "            0 ##\n",
        "    return (best_line, best_n)"
      ],
      "execution_count": null,
      "outputs": []
    },
    {
      "cell_type": "code",
      "metadata": {
        "id": "5ZcYnIG_XQZf"
      },
      "source": [
        "found_line, found_inliers = RANSAC_line(pts)\n",
        "print('inliers found %d' % found_inliers)\n",
        "# get line as y = ax+b from (p,u) representation\n",
        "print(found_line)\n",
        "b = found_line[0][1] - found_line[1][1] * found_line[0][0] / found_line[1][0]\n",
        "a = found_line[1][1] / found_line[1][0]\n",
        "print('line eq y=%fx+%f' % (a,b))"
      ],
      "execution_count": null,
      "outputs": []
    },
    {
      "cell_type": "code",
      "metadata": {
        "id": "JswR1V61XQZh"
      },
      "source": [
        "# draw line on image\n",
        "cv2.line(im, (0,int(round(b))), (sz,int(round(a*sz+b))), color=(255,0,0))\n",
        "display_image(im)"
      ],
      "execution_count": null,
      "outputs": []
    },
    {
      "cell_type": "markdown",
      "metadata": {
        "id": "BkdozczBXQZk"
      },
      "source": [
        "## Towards automated stitching"
      ]
    },
    {
      "cell_type": "code",
      "metadata": {
        "id": "BW3p5Dd5XQZl"
      },
      "source": [
        "# https://docs.opencv.org/3.4/db/d70/tutorial_akaze_matching.html\n",
        "\n",
        "from math import sqrt\n",
        "\n",
        "# point matching\n",
        "akaze = cv2.AKAZE_create()\n",
        "kpts1, desc1 = akaze.detectAndCompute(images[0], None)\n",
        "kpts2, desc2 = akaze.detectAndCompute(images[1], None)\n",
        "matcher = cv2.DescriptorMatcher_create(cv2.DescriptorMatcher_BRUTEFORCE_HAMMING)\n",
        "nn_matches = matcher.knnMatch(desc1, desc2, 2)\n",
        "matched1 = []\n",
        "matched2 = []\n",
        "nn_match_ratio = 0.8 # Nearest neighbor matching ratio\n",
        "for m, n in nn_matches:\n",
        "    if m.distance < nn_match_ratio * n.distance:\n",
        "        matched1.append(kpts1[m.queryIdx])\n",
        "        matched2.append(kpts2[m.trainIdx])\n",
        "\n",
        "print('%d potential matches' % len(matched1))\n",
        "matched1_np = np.asarray([(m.pt[0],m.pt[1]) for m in matched1])\n",
        "matched2_np = np.asarray([(m.pt[0],m.pt[1]) for m in matched2])\n",
        "\n",
        "# RANSAC on homographies\n",
        "best_H = None\n",
        "best_n = 0\n",
        "best_inliers = None\n",
        "for iter in range(1000):\n",
        "    ids = np.random.choice(len(matched1), 4, replace=False)\n",
        "    H = calc_homography_DLT(matched1_np[ids], matched2_np[ids])\n",
        "\n",
        "    inliers1 = []\n",
        "    inliers2 = []\n",
        "    good_matches = []\n",
        "    inlier_threshold = 2.5 # Distance threshold to identify inliers with homography check\n",
        "    for i, m in enumerate(matched1):\n",
        "        col = np.ones((3,1), dtype=np.float64)\n",
        "        col[0:2,0] = m.pt\n",
        "        pt2 = ##\n",
        "        pt2 /= pt2[2,0]\n",
        "        dist = ##\n",
        "        if dist < inlier_threshold:\n",
        "            good_matches.append(cv2.DMatch(len(inliers1), len(inliers2), 0))\n",
        "            inliers1.append(matched1[i])\n",
        "            inliers2.append(matched2[i])\n",
        "    print((ids, len(inliers1)))\n",
        "    if len(inliers1) > best_n:\n",
        "        best_H = H\n",
        "        best_n = len(inliers1)\n",
        "        best_inliers = (inliers1,inliers2)"
      ],
      "execution_count": null,
      "outputs": []
    },
    {
      "cell_type": "code",
      "metadata": {
        "id": "yQEJ6JeeXQZn"
      },
      "source": [
        "best_n, best_H"
      ],
      "execution_count": null,
      "outputs": []
    },
    {
      "cell_type": "code",
      "metadata": {
        "id": "5NJFYvgvXQZq"
      },
      "source": [
        "# define bigger im1\n",
        "im1ext = np.zeros((images[1].shape[0], images[1].shape[1]*2, images[1].shape[2]), dtype=images[1].dtype)\n",
        "#apply_homography(images[0], H10, im1ext)\n",
        "im1ext = cv2.warpPerspective(images[0], best_H, im1ext.shape[1::-1])\n",
        "mask = im1ext[:,:images[1].shape[1]] == 0\n",
        "im1ext[:,:images[1].shape[1]][mask] = images[1][mask]\n",
        "display_image(im1ext)"
      ],
      "execution_count": null,
      "outputs": []
    },
    {
      "cell_type": "code",
      "metadata": {
        "id": "dr0JkySfXQZt"
      },
      "source": [],
      "execution_count": null,
      "outputs": []
    }
  ]
}