{
  "cells": [
    {
      "cell_type": "markdown",
      "metadata": {
        "colab_type": "text",
        "id": "view-in-github"
      },
      "source": [
        "<a href=\"https://colab.research.google.com/github/MurphLaws/Exp/blob/main/TD_2_void.ipynb\" target=\"_parent\"><img src=\"https://colab.research.google.com/assets/colab-badge.svg\" alt=\"Open In Colab\"/></a>"
      ]
    },
    {
      "cell_type": "code",
      "execution_count": null,
      "metadata": {
        "id": "UNur2S_yvpPE"
      },
      "outputs": [],
      "source": [
        "import numpy as np\n",
        "from PIL import Image, ImageOps\n",
        "import matplotlib.pyplot as plt\n",
        "from scipy import ndimage"
      ]
    },
    {
      "cell_type": "code",
      "execution_count": null,
      "metadata": {
        "id": "06et42ETvpPM"
      },
      "outputs": [],
      "source": [
        "%matplotlib inline"
      ]
    },
    {
      "cell_type": "code",
      "execution_count": null,
      "metadata": {
        "id": "DpUGR3brvpPT"
      },
      "outputs": [],
      "source": [
        "# utils\n",
        "\n",
        "def load_image(filename, as_gray=False, as_float=False):\n",
        "    if as_gray:\n",
        "        a = np.asarray(Image.open(filename).convert('L'))\n",
        "    else:\n",
        "        a = np.asarray(Image.open(filename))\n",
        "    if as_float:\n",
        "        return a.astype(np.float) / 255\n",
        "    else:\n",
        "        return a\n",
        "\n",
        "def display_image(im, as_gray=False, title=None):\n",
        "    plt.figure(figsize=(9,4))\n",
        "    if as_gray:\n",
        "        plt.imshow(im, cmap='gray')\n",
        "    else:\n",
        "        plt.imshow(im)\n",
        "    if title is not None:\n",
        "        plt.title(title)\n",
        "\n",
        "def display_vec(v, title=None):\n",
        "    plt.figure(figsize=(9,4))\n",
        "    plt.plot(v)\n",
        "    if title is not None:\n",
        "        plt.title(title)"
      ]
    },
    {
      "cell_type": "code",
      "execution_count": 1,
      "metadata": {
        "id": "Hmd9m7gvvpPd"
      },
      "outputs": [
        {
          "ename": "NameError",
          "evalue": "name 'np' is not defined",
          "output_type": "error",
          "traceback": [
            "\u001b[0;31m---------------------------------------------------------------------------\u001b[0m",
            "\u001b[0;31mNameError\u001b[0m                                 Traceback (most recent call last)",
            "\u001b[1;32m/workspaces/Exp/TD_2_void.ipynb Cell 5\u001b[0m line \u001b[0;36m2\n\u001b[1;32m      <a href='vscode-notebook-cell://codespaces%2Bubiquitous-couscous-x9p4r49rv55fxqq/workspaces/Exp/TD_2_void.ipynb#W4sdnNjb2RlLXJlbW90ZQ%3D%3D?line=0'>1</a>\u001b[0m \u001b[39m# syntax examples\u001b[39;00m\n\u001b[0;32m----> <a href='vscode-notebook-cell://codespaces%2Bubiquitous-couscous-x9p4r49rv55fxqq/workspaces/Exp/TD_2_void.ipynb#W4sdnNjb2RlLXJlbW90ZQ%3D%3D?line=1'>2</a>\u001b[0m im \u001b[39m=\u001b[39m np\u001b[39m.\u001b[39mzeros((\u001b[39m10\u001b[39m, \u001b[39m10\u001b[39m), dtype\u001b[39m=\u001b[39mnp\u001b[39m.\u001b[39muint8)\n\u001b[1;32m      <a href='vscode-notebook-cell://codespaces%2Bubiquitous-couscous-x9p4r49rv55fxqq/workspaces/Exp/TD_2_void.ipynb#W4sdnNjb2RlLXJlbW90ZQ%3D%3D?line=3'>4</a>\u001b[0m \u001b[39mrange\u001b[39m(\u001b[39m10\u001b[39m) \u001b[39m# 0..9\u001b[39;00m\n\u001b[1;32m      <a href='vscode-notebook-cell://codespaces%2Bubiquitous-couscous-x9p4r49rv55fxqq/workspaces/Exp/TD_2_void.ipynb#W4sdnNjb2RlLXJlbW90ZQ%3D%3D?line=4'>5</a>\u001b[0m \u001b[39mrange\u001b[39m(\u001b[39m1\u001b[39m,\u001b[39m10\u001b[39m) \u001b[39m# 1..9\u001b[39;00m\n",
            "\u001b[0;31mNameError\u001b[0m: name 'np' is not defined"
          ]
        }
      ],
      "source": [
        "# syntax examples\n",
        "im = np.zeros((10, 10), dtype=np.uint8)\n",
        "\n",
        "range(10) # 0..9\n",
        "range(1,10) # 1..9\n",
        "\n",
        "# loop in image\n",
        "for i in range(im.shape[0]):\n",
        "    for j in range(im.shape[1]):\n",
        "        v = im[i,j]\n",
        "\n",
        "# create vector, matrix\n",
        "np.zeros((3,), dtype=np.int)\n",
        "np.zeros((3,4), dtype=np.int)\n",
        "\n",
        "# get element count\n",
        "im.size\n",
        "\n",
        "# define function\n",
        "def f(arg):\n",
        "    return 0"
      ]
    },
    {
      "cell_type": "markdown",
      "metadata": {
        "id": "WC-BVhwWvpPi"
      },
      "source": [
        "# Segment drawing"
      ]
    },
    {
      "cell_type": "code",
      "execution_count": null,
      "metadata": {
        "id": "ZniVApFVvpPj"
      },
      "outputs": [],
      "source": [
        "# define a function that draws a segment, with dx>0 and dy>0 and dy<dx\n",
        "#   first with float calcs: draw_seg(im, p1, p2)\n",
        "#   then with integer only: draw_seg_bresenham(im, p1, p2)\n",
        "\n",
        "def draw_seg(im, p1, p2):\n",
        "    x1,y1 = p1\n",
        "    x2,y2 = p2\n",
        "    dx = x2 - x1\n",
        "    dy = y2 - y1\n",
        "    assert(dx>0 and dy>0 and dy<dx)\n",
        "    for x in range(x1, x2+1):\n",
        "        y = int(##)\n",
        "        im[y,x] = 1\n",
        "\n",
        "def draw_seg_bresenham(im, p1, p2):\n",
        "    x1,y1 = p1\n",
        "    x2,y2 = p2\n",
        "    dx = x2 - x1\n",
        "    dy = y2 - y1\n",
        "    assert(dx>0 and dy>0 and dy<dx)\n",
        "    x = x1\n",
        "    y = y1\n",
        "    im[y,x] = 1\n",
        "    ##\n",
        "    while x < x2:\n",
        "        x = x + 1\n",
        "        ##\n",
        "        if ##:\n",
        "            ##\n",
        "            y += 1\n",
        "        im[y,x] = 1\n",
        "\n",
        "im = np.zeros([25, 60], dtype=np.int)\n",
        "\n",
        "im1 = im.copy()\n",
        "draw_seg(im1, (10, 10), (54, 19))\n",
        "display_image(im1)\n",
        "\n",
        "im2 = im.copy()\n",
        "draw_seg_bresenham(im2, (10, 10), (54, 19))\n",
        "display_image(im2)\n",
        "\n",
        "display_image(im2 - im1)"
      ]
    },
    {
      "cell_type": "code",
      "execution_count": null,
      "metadata": {
        "id": "p6xcU80HvpP9"
      },
      "outputs": [],
      "source": []
    }
  ],
  "metadata": {
    "colab": {
      "include_colab_link": true,
      "provenance": []
    },
    "kernelspec": {
      "display_name": "Python 3",
      "language": "python",
      "name": "python3"
    },
    "language_info": {
      "codemirror_mode": {
        "name": "ipython",
        "version": 3
      },
      "file_extension": ".py",
      "mimetype": "text/x-python",
      "name": "python",
      "nbconvert_exporter": "python",
      "pygments_lexer": "ipython3",
      "version": "3.10.8"
    }
  },
  "nbformat": 4,
  "nbformat_minor": 0
}
