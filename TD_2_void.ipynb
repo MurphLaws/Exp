{
  "nbformat": 4,
  "nbformat_minor": 0,
  "metadata": {
    "kernelspec": {
      "display_name": "Python 3",
      "language": "python",
      "name": "python3"
    },
    "language_info": {
      "codemirror_mode": {
        "name": "ipython",
        "version": 3
      },
      "file_extension": ".py",
      "mimetype": "text/x-python",
      "name": "python",
      "nbconvert_exporter": "python",
      "pygments_lexer": "ipython3",
      "version": "3.5.4"
    },
    "colab": {
      "provenance": [],
      "include_colab_link": true
    }
  },
  "cells": [
    {
      "cell_type": "markdown",
      "metadata": {
        "id": "view-in-github",
        "colab_type": "text"
      },
      "source": [
        "<a href=\"https://colab.research.google.com/github/MurphLaws/Exp/blob/main/TD_2_void.ipynb\" target=\"_parent\"><img src=\"https://colab.research.google.com/assets/colab-badge.svg\" alt=\"Open In Colab\"/></a>"
      ]
    },
    {
      "cell_type": "code",
      "metadata": {
        "id": "UNur2S_yvpPE"
      },
      "source": [
        "import numpy as np\n",
        "from PIL import Image, ImageOps\n",
        "import matplotlib.pyplot as plt\n",
        "from scipy import ndimage"
      ],
      "execution_count": null,
      "outputs": []
    },
    {
      "cell_type": "code",
      "metadata": {
        "id": "06et42ETvpPM"
      },
      "source": [
        "%matplotlib inline"
      ],
      "execution_count": null,
      "outputs": []
    },
    {
      "cell_type": "code",
      "metadata": {
        "id": "DpUGR3brvpPT"
      },
      "source": [
        "# utils\n",
        "\n",
        "def load_image(filename, as_gray=False, as_float=False):\n",
        "    if as_gray:\n",
        "        a = np.asarray(Image.open(filename).convert('L'))\n",
        "    else:\n",
        "        a = np.asarray(Image.open(filename))\n",
        "    if as_float:\n",
        "        return a.astype(np.float) / 255\n",
        "    else:\n",
        "        return a\n",
        "\n",
        "def display_image(im, as_gray=False, title=None):\n",
        "    plt.figure(figsize=(9,4))\n",
        "    if as_gray:\n",
        "        plt.imshow(im, cmap='gray')\n",
        "    else:\n",
        "        plt.imshow(im)\n",
        "    if title is not None:\n",
        "        plt.title(title)\n",
        "\n",
        "def display_vec(v, title=None):\n",
        "    plt.figure(figsize=(9,4))\n",
        "    plt.plot(v)\n",
        "    if title is not None:\n",
        "        plt.title(title)"
      ],
      "execution_count": null,
      "outputs": []
    },
    {
      "cell_type": "code",
      "metadata": {
        "id": "Hmd9m7gvvpPd"
      },
      "source": [
        "# syntax examples\n",
        "im = np.zeros((10, 10), dtype=np.uint8)\n",
        "\n",
        "range(10) # 0..9\n",
        "range(1,10) # 1..9\n",
        "\n",
        "# loop in image\n",
        "for i in range(im.shape[0]):\n",
        "    for j in range(im.shape[1]):\n",
        "        v = im[i,j]\n",
        "\n",
        "# create vector, matrix\n",
        "np.zeros((3,), dtype=np.int)\n",
        "np.zeros((3,4), dtype=np.int)\n",
        "\n",
        "# get element count\n",
        "im.size\n",
        "\n",
        "# define function\n",
        "def f(arg):\n",
        "    return 0"
      ],
      "execution_count": null,
      "outputs": []
    },
    {
      "cell_type": "markdown",
      "metadata": {
        "id": "WC-BVhwWvpPi"
      },
      "source": [
        "# Segment drawing"
      ]
    },
    {
      "cell_type": "code",
      "metadata": {
        "id": "ZniVApFVvpPj"
      },
      "source": [
        "# define a function that draws a segment, with dx>0 and dy>0 and dy<dx\n",
        "#   first with float calcs: draw_seg(im, p1, p2)\n",
        "#   then with integer only: draw_seg_bresenham(im, p1, p2)\n",
        "\n",
        "def draw_seg(im, p1, p2):\n",
        "    x1,y1 = p1\n",
        "    x2,y2 = p2\n",
        "    dx = x2 - x1\n",
        "    dy = y2 - y1\n",
        "    assert(dx>0 and dy>0 and dy<dx)\n",
        "    for x in range(x1, x2+1):\n",
        "        y = int(##)\n",
        "        im[y,x] = 1\n",
        "\n",
        "def draw_seg_bresenham(im, p1, p2):\n",
        "    x1,y1 = p1\n",
        "    x2,y2 = p2\n",
        "    dx = x2 - x1\n",
        "    dy = y2 - y1\n",
        "    assert(dx>0 and dy>0 and dy<dx)\n",
        "    x = x1\n",
        "    y = y1\n",
        "    im[y,x] = 1\n",
        "    ##\n",
        "    while x < x2:\n",
        "        x = x + 1\n",
        "        ##\n",
        "        if ##:\n",
        "            ##\n",
        "            y += 1\n",
        "        im[y,x] = 1\n",
        "\n",
        "im = np.zeros([25, 60], dtype=np.int)\n",
        "\n",
        "im1 = im.copy()\n",
        "draw_seg(im1, (10, 10), (54, 19))\n",
        "display_image(im1)\n",
        "\n",
        "im2 = im.copy()\n",
        "draw_seg_bresenham(im2, (10, 10), (54, 19))\n",
        "display_image(im2)\n",
        "\n",
        "display_image(im2 - im1)"
      ],
      "execution_count": null,
      "outputs": []
    },
    {
      "cell_type": "code",
      "metadata": {
        "id": "p6xcU80HvpP9"
      },
      "source": [],
      "execution_count": null,
      "outputs": []
    }
  ]
}